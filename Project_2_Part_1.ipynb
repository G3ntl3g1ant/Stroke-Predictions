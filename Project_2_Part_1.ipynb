{
  "nbformat": 4,
  "nbformat_minor": 0,
  "metadata": {
    "colab": {
      "provenance": [],
      "authorship_tag": "ABX9TyOCX8qLxJOxX0Ox5ioYkjR9",
      "include_colab_link": true
    },
    "kernelspec": {
      "name": "python3",
      "display_name": "Python 3"
    },
    "language_info": {
      "name": "python"
    }
  },
  "cells": [
    {
      "cell_type": "markdown",
      "metadata": {
        "id": "view-in-github",
        "colab_type": "text"
      },
      "source": [
        "<a href=\"https://colab.research.google.com/github/G3ntl3g1ant/Coffee-Analysis/blob/main/Project_2_Part_1.ipynb\" target=\"_parent\"><img src=\"https://colab.research.google.com/assets/colab-badge.svg\" alt=\"Open In Colab\"/></a>"
      ]
    },
    {
      "cell_type": "markdown",
      "source": [
        "# Imports"
      ],
      "metadata": {
        "id": "zh9zZxZz8ldz"
      }
    },
    {
      "cell_type": "code",
      "source": [
        "# Imports\n",
        "import pandas as pd\n",
        "import numpy as np\n",
        "import seaborn as sns"
      ],
      "metadata": {
        "id": "AJW2AsXk8Eld"
      },
      "execution_count": 2,
      "outputs": []
    },
    {
      "cell_type": "markdown",
      "source": [
        "# Data Sets Considered for Processing"
      ],
      "metadata": {
        "id": "J-NuYJUd3gUk"
      }
    },
    {
      "cell_type": "markdown",
      "source": [
        "## Coffee Reviews Dataset"
      ],
      "metadata": {
        "id": "_UDvxAx85gvW"
      }
    },
    {
      "cell_type": "code",
      "source": [
        "path = 'https://docs.google.com/spreadsheets/d/e/2PACX-1vRa24vFIf2Nb9LZQcARBewLWJAq7RkLNyTGwmcUxF6gG3zieLxBQGx5a7n5e_YxDgbtEqAClInFZwim/pub?gid=2080147348&single=true&output=csv'\n",
        "df = pd.read_csv(path)\n",
        "df.head()"
      ],
      "metadata": {
        "colab": {
          "base_uri": "https://localhost:8080/",
          "height": 337
        },
        "id": "Rtlqz_kD8p9A",
        "outputId": "8127aacb-3478-4c78-dc7a-3aa4b9981348"
      },
      "execution_count": 3,
      "outputs": [
        {
          "output_type": "execute_result",
          "data": {
            "text/plain": [
              "                         name                    roaster         roast  \\\n",
              "0     “Sweety” Espresso Blend                     A.R.C.  Medium-Light   \n",
              "1        Flora Blend Espresso                     A.R.C.  Medium-Light   \n",
              "2    Ethiopia Shakiso Mormora               Revel Coffee  Medium-Light   \n",
              "3          Ethiopia Suke Quto                Roast House  Medium-Light   \n",
              "4  Ethiopia Gedeb Halo Beriti  Big Creek Coffee Roasters        Medium   \n",
              "\n",
              "     loc_country        origin_1           origin_2  100g_USD  rating  \\\n",
              "0      Hong Kong          Panama           Ethiopia     14.32      95   \n",
              "1      Hong Kong          Africa       Asia Pacific      9.05      94   \n",
              "2  United States       Guji Zone  Southern Ethiopia      4.70      92   \n",
              "3  United States       Guji Zone      Oromia Region      4.19      92   \n",
              "4  United States  Gedeb District         Gedeo Zone      4.85      94   \n",
              "\n",
              "     review_date                                             desc_1  \\\n",
              "0  November 2017  Evaluated as espresso. Sweet-toned, deeply ric...   \n",
              "1  November 2017  Evaluated as espresso. Sweetly tart, floral-to...   \n",
              "2  November 2017  Crisply sweet, cocoa-toned. Lemon blossom, roa...   \n",
              "3  November 2017  Delicate, sweetly spice-toned. Pink peppercorn...   \n",
              "4  November 2017  Deeply sweet, subtly pungent. Honey, pear, tan...   \n",
              "\n",
              "                                              desc_2  \\\n",
              "0  An espresso blend comprised of coffees from Pa...   \n",
              "1  An espresso blend comprised of coffees from Af...   \n",
              "2  This coffee tied for the third-highest rating ...   \n",
              "3  This coffee tied for the third-highest rating ...   \n",
              "4  Southern Ethiopia coffees like this one are pr...   \n",
              "\n",
              "                                              desc_3  \n",
              "0  A radiant espresso blend that shines equally i...  \n",
              "1  A floral-driven straight shot, amplified with ...  \n",
              "2  A gently spice-toned, floral- driven wet-proce...  \n",
              "3  Lavender-like flowers and hints of zesty pink ...  \n",
              "4  A deeply and generously lush cup saved from se...  "
            ],
            "text/html": [
              "\n",
              "  <div id=\"df-14588de1-a299-4b7e-b171-1038743b5916\">\n",
              "    <div class=\"colab-df-container\">\n",
              "      <div>\n",
              "<style scoped>\n",
              "    .dataframe tbody tr th:only-of-type {\n",
              "        vertical-align: middle;\n",
              "    }\n",
              "\n",
              "    .dataframe tbody tr th {\n",
              "        vertical-align: top;\n",
              "    }\n",
              "\n",
              "    .dataframe thead th {\n",
              "        text-align: right;\n",
              "    }\n",
              "</style>\n",
              "<table border=\"1\" class=\"dataframe\">\n",
              "  <thead>\n",
              "    <tr style=\"text-align: right;\">\n",
              "      <th></th>\n",
              "      <th>name</th>\n",
              "      <th>roaster</th>\n",
              "      <th>roast</th>\n",
              "      <th>loc_country</th>\n",
              "      <th>origin_1</th>\n",
              "      <th>origin_2</th>\n",
              "      <th>100g_USD</th>\n",
              "      <th>rating</th>\n",
              "      <th>review_date</th>\n",
              "      <th>desc_1</th>\n",
              "      <th>desc_2</th>\n",
              "      <th>desc_3</th>\n",
              "    </tr>\n",
              "  </thead>\n",
              "  <tbody>\n",
              "    <tr>\n",
              "      <th>0</th>\n",
              "      <td>“Sweety” Espresso Blend</td>\n",
              "      <td>A.R.C.</td>\n",
              "      <td>Medium-Light</td>\n",
              "      <td>Hong Kong</td>\n",
              "      <td>Panama</td>\n",
              "      <td>Ethiopia</td>\n",
              "      <td>14.32</td>\n",
              "      <td>95</td>\n",
              "      <td>November 2017</td>\n",
              "      <td>Evaluated as espresso. Sweet-toned, deeply ric...</td>\n",
              "      <td>An espresso blend comprised of coffees from Pa...</td>\n",
              "      <td>A radiant espresso blend that shines equally i...</td>\n",
              "    </tr>\n",
              "    <tr>\n",
              "      <th>1</th>\n",
              "      <td>Flora Blend Espresso</td>\n",
              "      <td>A.R.C.</td>\n",
              "      <td>Medium-Light</td>\n",
              "      <td>Hong Kong</td>\n",
              "      <td>Africa</td>\n",
              "      <td>Asia Pacific</td>\n",
              "      <td>9.05</td>\n",
              "      <td>94</td>\n",
              "      <td>November 2017</td>\n",
              "      <td>Evaluated as espresso. Sweetly tart, floral-to...</td>\n",
              "      <td>An espresso blend comprised of coffees from Af...</td>\n",
              "      <td>A floral-driven straight shot, amplified with ...</td>\n",
              "    </tr>\n",
              "    <tr>\n",
              "      <th>2</th>\n",
              "      <td>Ethiopia Shakiso Mormora</td>\n",
              "      <td>Revel Coffee</td>\n",
              "      <td>Medium-Light</td>\n",
              "      <td>United States</td>\n",
              "      <td>Guji Zone</td>\n",
              "      <td>Southern Ethiopia</td>\n",
              "      <td>4.70</td>\n",
              "      <td>92</td>\n",
              "      <td>November 2017</td>\n",
              "      <td>Crisply sweet, cocoa-toned. Lemon blossom, roa...</td>\n",
              "      <td>This coffee tied for the third-highest rating ...</td>\n",
              "      <td>A gently spice-toned, floral- driven wet-proce...</td>\n",
              "    </tr>\n",
              "    <tr>\n",
              "      <th>3</th>\n",
              "      <td>Ethiopia Suke Quto</td>\n",
              "      <td>Roast House</td>\n",
              "      <td>Medium-Light</td>\n",
              "      <td>United States</td>\n",
              "      <td>Guji Zone</td>\n",
              "      <td>Oromia Region</td>\n",
              "      <td>4.19</td>\n",
              "      <td>92</td>\n",
              "      <td>November 2017</td>\n",
              "      <td>Delicate, sweetly spice-toned. Pink peppercorn...</td>\n",
              "      <td>This coffee tied for the third-highest rating ...</td>\n",
              "      <td>Lavender-like flowers and hints of zesty pink ...</td>\n",
              "    </tr>\n",
              "    <tr>\n",
              "      <th>4</th>\n",
              "      <td>Ethiopia Gedeb Halo Beriti</td>\n",
              "      <td>Big Creek Coffee Roasters</td>\n",
              "      <td>Medium</td>\n",
              "      <td>United States</td>\n",
              "      <td>Gedeb District</td>\n",
              "      <td>Gedeo Zone</td>\n",
              "      <td>4.85</td>\n",
              "      <td>94</td>\n",
              "      <td>November 2017</td>\n",
              "      <td>Deeply sweet, subtly pungent. Honey, pear, tan...</td>\n",
              "      <td>Southern Ethiopia coffees like this one are pr...</td>\n",
              "      <td>A deeply and generously lush cup saved from se...</td>\n",
              "    </tr>\n",
              "  </tbody>\n",
              "</table>\n",
              "</div>\n",
              "      <button class=\"colab-df-convert\" onclick=\"convertToInteractive('df-14588de1-a299-4b7e-b171-1038743b5916')\"\n",
              "              title=\"Convert this dataframe to an interactive table.\"\n",
              "              style=\"display:none;\">\n",
              "        \n",
              "  <svg xmlns=\"http://www.w3.org/2000/svg\" height=\"24px\"viewBox=\"0 0 24 24\"\n",
              "       width=\"24px\">\n",
              "    <path d=\"M0 0h24v24H0V0z\" fill=\"none\"/>\n",
              "    <path d=\"M18.56 5.44l.94 2.06.94-2.06 2.06-.94-2.06-.94-.94-2.06-.94 2.06-2.06.94zm-11 1L8.5 8.5l.94-2.06 2.06-.94-2.06-.94L8.5 2.5l-.94 2.06-2.06.94zm10 10l.94 2.06.94-2.06 2.06-.94-2.06-.94-.94-2.06-.94 2.06-2.06.94z\"/><path d=\"M17.41 7.96l-1.37-1.37c-.4-.4-.92-.59-1.43-.59-.52 0-1.04.2-1.43.59L10.3 9.45l-7.72 7.72c-.78.78-.78 2.05 0 2.83L4 21.41c.39.39.9.59 1.41.59.51 0 1.02-.2 1.41-.59l7.78-7.78 2.81-2.81c.8-.78.8-2.07 0-2.86zM5.41 20L4 18.59l7.72-7.72 1.47 1.35L5.41 20z\"/>\n",
              "  </svg>\n",
              "      </button>\n",
              "      \n",
              "  <style>\n",
              "    .colab-df-container {\n",
              "      display:flex;\n",
              "      flex-wrap:wrap;\n",
              "      gap: 12px;\n",
              "    }\n",
              "\n",
              "    .colab-df-convert {\n",
              "      background-color: #E8F0FE;\n",
              "      border: none;\n",
              "      border-radius: 50%;\n",
              "      cursor: pointer;\n",
              "      display: none;\n",
              "      fill: #1967D2;\n",
              "      height: 32px;\n",
              "      padding: 0 0 0 0;\n",
              "      width: 32px;\n",
              "    }\n",
              "\n",
              "    .colab-df-convert:hover {\n",
              "      background-color: #E2EBFA;\n",
              "      box-shadow: 0px 1px 2px rgba(60, 64, 67, 0.3), 0px 1px 3px 1px rgba(60, 64, 67, 0.15);\n",
              "      fill: #174EA6;\n",
              "    }\n",
              "\n",
              "    [theme=dark] .colab-df-convert {\n",
              "      background-color: #3B4455;\n",
              "      fill: #D2E3FC;\n",
              "    }\n",
              "\n",
              "    [theme=dark] .colab-df-convert:hover {\n",
              "      background-color: #434B5C;\n",
              "      box-shadow: 0px 1px 3px 1px rgba(0, 0, 0, 0.15);\n",
              "      filter: drop-shadow(0px 1px 2px rgba(0, 0, 0, 0.3));\n",
              "      fill: #FFFFFF;\n",
              "    }\n",
              "  </style>\n",
              "\n",
              "      <script>\n",
              "        const buttonEl =\n",
              "          document.querySelector('#df-14588de1-a299-4b7e-b171-1038743b5916 button.colab-df-convert');\n",
              "        buttonEl.style.display =\n",
              "          google.colab.kernel.accessAllowed ? 'block' : 'none';\n",
              "\n",
              "        async function convertToInteractive(key) {\n",
              "          const element = document.querySelector('#df-14588de1-a299-4b7e-b171-1038743b5916');\n",
              "          const dataTable =\n",
              "            await google.colab.kernel.invokeFunction('convertToInteractive',\n",
              "                                                     [key], {});\n",
              "          if (!dataTable) return;\n",
              "\n",
              "          const docLinkHtml = 'Like what you see? Visit the ' +\n",
              "            '<a target=\"_blank\" href=https://colab.research.google.com/notebooks/data_table.ipynb>data table notebook</a>'\n",
              "            + ' to learn more about interactive tables.';\n",
              "          element.innerHTML = '';\n",
              "          dataTable['output_type'] = 'display_data';\n",
              "          await google.colab.output.renderOutput(dataTable, element);\n",
              "          const docLink = document.createElement('div');\n",
              "          docLink.innerHTML = docLinkHtml;\n",
              "          element.appendChild(docLink);\n",
              "        }\n",
              "      </script>\n",
              "    </div>\n",
              "  </div>\n",
              "  "
            ]
          },
          "metadata": {},
          "execution_count": 3
        }
      ]
    },
    {
      "cell_type": "code",
      "source": [
        "df.info()"
      ],
      "metadata": {
        "colab": {
          "base_uri": "https://localhost:8080/"
        },
        "id": "rNx3CGNR88LU",
        "outputId": "bdb61db1-9877-48a5-a2c6-140f93a625b7"
      },
      "execution_count": 4,
      "outputs": [
        {
          "output_type": "stream",
          "name": "stdout",
          "text": [
            "<class 'pandas.core.frame.DataFrame'>\n",
            "RangeIndex: 2095 entries, 0 to 2094\n",
            "Data columns (total 12 columns):\n",
            " #   Column       Non-Null Count  Dtype  \n",
            "---  ------       --------------  -----  \n",
            " 0   name         2095 non-null   object \n",
            " 1   roaster      2095 non-null   object \n",
            " 2   roast        2080 non-null   object \n",
            " 3   loc_country  2095 non-null   object \n",
            " 4   origin_1     2095 non-null   object \n",
            " 5   origin_2     2095 non-null   object \n",
            " 6   100g_USD     2095 non-null   float64\n",
            " 7   rating       2095 non-null   int64  \n",
            " 8   review_date  2095 non-null   object \n",
            " 9   desc_1       2095 non-null   object \n",
            " 10  desc_2       2095 non-null   object \n",
            " 11  desc_3       2093 non-null   object \n",
            "dtypes: float64(1), int64(1), object(10)\n",
            "memory usage: 196.5+ KB\n"
          ]
        }
      ]
    },
    {
      "cell_type": "markdown",
      "source": [
        "**Source of the Data:**\n",
        "\n",
        "https://www.kaggle.com/datasets/schmoyote/coffee-reviews-dataset"
      ],
      "metadata": {
        "id": "teM1nha75mUi"
      }
    },
    {
      "cell_type": "markdown",
      "source": [
        "**Data Description:**\n",
        "Coffee Reviews comparing bean roast, roaster, growth location and price per 100 grams, etc."
      ],
      "metadata": {
        "id": "MX53D5F463Gf"
      }
    },
    {
      "cell_type": "markdown",
      "source": [
        "**Target:** Rating of a coffee\n",
        "\n",
        "This will be the target because we are trying to find the best/most popular coffee brand/roast. \n"
      ],
      "metadata": {
        "id": "u9xIySAW6-Zu"
      }
    },
    {
      "cell_type": "markdown",
      "source": [
        "**Each Row Represents:** 1 person/reviewer"
      ],
      "metadata": {
        "id": "w6LohIgJ7DUR"
      }
    },
    {
      "cell_type": "markdown",
      "source": [
        "**Classification or Regression:** Classification\n",
        "\n",
        "We are looking to find out the approval ratings of present and new coffees. "
      ],
      "metadata": {
        "id": "E5gbuCWD7Df3"
      }
    },
    {
      "cell_type": "markdown",
      "source": [
        "**Number of Features:** 7 Features \n",
        "\n",
        "(The other present features will be removed during the cleaning phase)"
      ],
      "metadata": {
        "id": "v8zprv4z7Doa"
      }
    },
    {
      "cell_type": "markdown",
      "source": [
        "**Number of Rows:** 2095 Rows"
      ],
      "metadata": {
        "id": "ATXOLvne7Dv9"
      }
    },
    {
      "cell_type": "markdown",
      "source": [
        "**Challenges:** With this Dataset I can forsee some challenges with the origin columns, how they will influence the Dataset, I cannot as of yet say. \n",
        "\n",
        "But modeling for sure will be a challenge with so many object values. Will have to be careful to categorize the objects correctly, wheather they are ordinal or nominal, respectively. "
      ],
      "metadata": {
        "id": "GRr-rCBj7D5r"
      }
    },
    {
      "cell_type": "markdown",
      "source": [
        "## Starbucks Customer Survey Dataset"
      ],
      "metadata": {
        "id": "X8xEFGX-6Uzt"
      }
    },
    {
      "cell_type": "code",
      "source": [
        "path2 = 'https://docs.google.com/spreadsheets/d/e/2PACX-1vTM74mIJ9C-gx3KWHUDNFBIMAZRHcyRm0ZtZAj30NcAHjmsfJkrtAfIakreE9Ec1_avOOGVRBDat0E2/pub?gid=2132854527&single=true&output=csv'\n",
        "df2 = pd.read_csv(path2)\n",
        "df2.head()"
      ],
      "metadata": {
        "colab": {
          "base_uri": "https://localhost:8080/",
          "height": 803
        },
        "id": "-_FM9X03953i",
        "outputId": "6a52167e-a31e-411c-9c18-a5318fd0601e"
      },
      "execution_count": 5,
      "outputs": [
        {
          "output_type": "execute_result",
          "data": {
            "text/plain": [
              "                      Timestamp 1. Your Gender    2. Your Age  \\\n",
              "0  2019/10/01 12:38:43 PM GMT+8         Female  From 20 to 29   \n",
              "1  2019/10/01 12:38:54 PM GMT+8         Female  From 20 to 29   \n",
              "2  2019/10/01 12:38:56 PM GMT+8           Male  From 20 to 29   \n",
              "3  2019/10/01 12:39:08 PM GMT+8         Female  From 20 to 29   \n",
              "4  2019/10/01 12:39:20 PM GMT+8           Male  From 20 to 29   \n",
              "\n",
              "  3. Are you currently....? 4. What is your annual income?  \\\n",
              "0                   Student             Less than RM25,000   \n",
              "1                   Student             Less than RM25,000   \n",
              "2                  Employed             Less than RM25,000   \n",
              "3                   Student             Less than RM25,000   \n",
              "4                   Student             Less than RM25,000   \n",
              "\n",
              "  5. How often do you visit Starbucks? 6. How do you usually enjoy Starbucks?  \\\n",
              "0                               Rarely                                Dine in   \n",
              "1                               Rarely                              Take away   \n",
              "2                              Monthly                                Dine in   \n",
              "3                               Rarely                              Take away   \n",
              "4                              Monthly                              Take away   \n",
              "\n",
              "  7. How much time do you normally  spend during your visit?  \\\n",
              "0                       Between 30 minutes to 1 hour           \n",
              "1                                   Below 30 minutes           \n",
              "2                       Between 30 minutes to 1 hour           \n",
              "3                                   Below 30 minutes           \n",
              "4                       Between 30 minutes to 1 hour           \n",
              "\n",
              "  8. The nearest Starbucks's outlet to you is...?  \\\n",
              "0                                      within 1km   \n",
              "1                                       1km - 3km   \n",
              "2                                   more than 3km   \n",
              "3                                   more than 3km   \n",
              "4                                       1km - 3km   \n",
              "\n",
              "  9. Do you have Starbucks membership card?  ...  \\\n",
              "0                                       Yes  ...   \n",
              "1                                       Yes  ...   \n",
              "2                                       Yes  ...   \n",
              "3                                       Yes  ...   \n",
              "4                                       Yes  ...   \n",
              "\n",
              "  11. On average, how much would you spend at Starbucks per visit?  \\\n",
              "0                                     Less than RM20                 \n",
              "1                                     Less than RM20                 \n",
              "2                                     Less than RM20                 \n",
              "3                                     Less than RM20                 \n",
              "4                                 Around RM20 - RM40                 \n",
              "\n",
              "  12. How would you rate the quality of Starbucks compared to other brands (Coffee Bean, Old Town White Coffee..) to be:  \\\n",
              "0                                                  4                                                                       \n",
              "1                                                  4                                                                       \n",
              "2                                                  4                                                                       \n",
              "3                                                  2                                                                       \n",
              "4                                                  3                                                                       \n",
              "\n",
              "   13. How would you rate the price range at Starbucks?  \\\n",
              "0                                                  3      \n",
              "1                                                  3      \n",
              "2                                                  3      \n",
              "3                                                  1      \n",
              "4                                                  3      \n",
              "\n",
              "   14. How important are sales and promotions in your purchase decision?  \\\n",
              "0                                                  5                       \n",
              "1                                                  4                       \n",
              "2                                                  4                       \n",
              "3                                                  4                       \n",
              "4                                                  4                       \n",
              "\n",
              "   15. How would you rate the ambiance at Starbucks? (lighting, music, etc...)  \\\n",
              "0                                                  5                             \n",
              "1                                                  4                             \n",
              "2                                                  4                             \n",
              "3                                                  3                             \n",
              "4                                                  2                             \n",
              "\n",
              "   16. You rate the WiFi quality at Starbucks as..  \\\n",
              "0                                                4   \n",
              "1                                                4   \n",
              "2                                                4   \n",
              "3                                                3   \n",
              "4                                                2   \n",
              "\n",
              "   17. How would you rate the service at Starbucks? (Promptness, friendliness, etc..)  \\\n",
              "0                                                  4                                    \n",
              "1                                                  5                                    \n",
              "2                                                  4                                    \n",
              "3                                                  3                                    \n",
              "4                                                  3                                    \n",
              "\n",
              "   18. How likely you will choose Starbucks for doing business meetings or hangout with friends?  \\\n",
              "0                                                  3                                               \n",
              "1                                                  2                                               \n",
              "2                                                  3                                               \n",
              "3                                                  3                                               \n",
              "4                                                  3                                               \n",
              "\n",
              "   19. How do you come to hear of promotions at Starbucks? Check all that apply.  \\\n",
              "0  Starbucks Website/Apps;Social Media;Emails;Dea...                               \n",
              "1                     Social Media;In Store displays                               \n",
              "2                       In Store displays;Billboards                               \n",
              "3                  Through friends and word of mouth                               \n",
              "4                Starbucks Website/Apps;Social Media                               \n",
              "\n",
              "  20. Will you continue buying at Starbucks?  \n",
              "0                                        Yes  \n",
              "1                                        Yes  \n",
              "2                                        Yes  \n",
              "3                                         No  \n",
              "4                                        Yes  \n",
              "\n",
              "[5 rows x 21 columns]"
            ],
            "text/html": [
              "\n",
              "  <div id=\"df-fd592f66-44b7-44c2-a457-f917cd87b56e\">\n",
              "    <div class=\"colab-df-container\">\n",
              "      <div>\n",
              "<style scoped>\n",
              "    .dataframe tbody tr th:only-of-type {\n",
              "        vertical-align: middle;\n",
              "    }\n",
              "\n",
              "    .dataframe tbody tr th {\n",
              "        vertical-align: top;\n",
              "    }\n",
              "\n",
              "    .dataframe thead th {\n",
              "        text-align: right;\n",
              "    }\n",
              "</style>\n",
              "<table border=\"1\" class=\"dataframe\">\n",
              "  <thead>\n",
              "    <tr style=\"text-align: right;\">\n",
              "      <th></th>\n",
              "      <th>Timestamp</th>\n",
              "      <th>1. Your Gender</th>\n",
              "      <th>2. Your Age</th>\n",
              "      <th>3. Are you currently....?</th>\n",
              "      <th>4. What is your annual income?</th>\n",
              "      <th>5. How often do you visit Starbucks?</th>\n",
              "      <th>6. How do you usually enjoy Starbucks?</th>\n",
              "      <th>7. How much time do you normally  spend during your visit?</th>\n",
              "      <th>8. The nearest Starbucks's outlet to you is...?</th>\n",
              "      <th>9. Do you have Starbucks membership card?</th>\n",
              "      <th>...</th>\n",
              "      <th>11. On average, how much would you spend at Starbucks per visit?</th>\n",
              "      <th>12. How would you rate the quality of Starbucks compared to other brands (Coffee Bean, Old Town White Coffee..) to be:</th>\n",
              "      <th>13. How would you rate the price range at Starbucks?</th>\n",
              "      <th>14. How important are sales and promotions in your purchase decision?</th>\n",
              "      <th>15. How would you rate the ambiance at Starbucks? (lighting, music, etc...)</th>\n",
              "      <th>16. You rate the WiFi quality at Starbucks as..</th>\n",
              "      <th>17. How would you rate the service at Starbucks? (Promptness, friendliness, etc..)</th>\n",
              "      <th>18. How likely you will choose Starbucks for doing business meetings or hangout with friends?</th>\n",
              "      <th>19. How do you come to hear of promotions at Starbucks? Check all that apply.</th>\n",
              "      <th>20. Will you continue buying at Starbucks?</th>\n",
              "    </tr>\n",
              "  </thead>\n",
              "  <tbody>\n",
              "    <tr>\n",
              "      <th>0</th>\n",
              "      <td>2019/10/01 12:38:43 PM GMT+8</td>\n",
              "      <td>Female</td>\n",
              "      <td>From 20 to 29</td>\n",
              "      <td>Student</td>\n",
              "      <td>Less than RM25,000</td>\n",
              "      <td>Rarely</td>\n",
              "      <td>Dine in</td>\n",
              "      <td>Between 30 minutes to 1 hour</td>\n",
              "      <td>within 1km</td>\n",
              "      <td>Yes</td>\n",
              "      <td>...</td>\n",
              "      <td>Less than RM20</td>\n",
              "      <td>4</td>\n",
              "      <td>3</td>\n",
              "      <td>5</td>\n",
              "      <td>5</td>\n",
              "      <td>4</td>\n",
              "      <td>4</td>\n",
              "      <td>3</td>\n",
              "      <td>Starbucks Website/Apps;Social Media;Emails;Dea...</td>\n",
              "      <td>Yes</td>\n",
              "    </tr>\n",
              "    <tr>\n",
              "      <th>1</th>\n",
              "      <td>2019/10/01 12:38:54 PM GMT+8</td>\n",
              "      <td>Female</td>\n",
              "      <td>From 20 to 29</td>\n",
              "      <td>Student</td>\n",
              "      <td>Less than RM25,000</td>\n",
              "      <td>Rarely</td>\n",
              "      <td>Take away</td>\n",
              "      <td>Below 30 minutes</td>\n",
              "      <td>1km - 3km</td>\n",
              "      <td>Yes</td>\n",
              "      <td>...</td>\n",
              "      <td>Less than RM20</td>\n",
              "      <td>4</td>\n",
              "      <td>3</td>\n",
              "      <td>4</td>\n",
              "      <td>4</td>\n",
              "      <td>4</td>\n",
              "      <td>5</td>\n",
              "      <td>2</td>\n",
              "      <td>Social Media;In Store displays</td>\n",
              "      <td>Yes</td>\n",
              "    </tr>\n",
              "    <tr>\n",
              "      <th>2</th>\n",
              "      <td>2019/10/01 12:38:56 PM GMT+8</td>\n",
              "      <td>Male</td>\n",
              "      <td>From 20 to 29</td>\n",
              "      <td>Employed</td>\n",
              "      <td>Less than RM25,000</td>\n",
              "      <td>Monthly</td>\n",
              "      <td>Dine in</td>\n",
              "      <td>Between 30 minutes to 1 hour</td>\n",
              "      <td>more than 3km</td>\n",
              "      <td>Yes</td>\n",
              "      <td>...</td>\n",
              "      <td>Less than RM20</td>\n",
              "      <td>4</td>\n",
              "      <td>3</td>\n",
              "      <td>4</td>\n",
              "      <td>4</td>\n",
              "      <td>4</td>\n",
              "      <td>4</td>\n",
              "      <td>3</td>\n",
              "      <td>In Store displays;Billboards</td>\n",
              "      <td>Yes</td>\n",
              "    </tr>\n",
              "    <tr>\n",
              "      <th>3</th>\n",
              "      <td>2019/10/01 12:39:08 PM GMT+8</td>\n",
              "      <td>Female</td>\n",
              "      <td>From 20 to 29</td>\n",
              "      <td>Student</td>\n",
              "      <td>Less than RM25,000</td>\n",
              "      <td>Rarely</td>\n",
              "      <td>Take away</td>\n",
              "      <td>Below 30 minutes</td>\n",
              "      <td>more than 3km</td>\n",
              "      <td>Yes</td>\n",
              "      <td>...</td>\n",
              "      <td>Less than RM20</td>\n",
              "      <td>2</td>\n",
              "      <td>1</td>\n",
              "      <td>4</td>\n",
              "      <td>3</td>\n",
              "      <td>3</td>\n",
              "      <td>3</td>\n",
              "      <td>3</td>\n",
              "      <td>Through friends and word of mouth</td>\n",
              "      <td>No</td>\n",
              "    </tr>\n",
              "    <tr>\n",
              "      <th>4</th>\n",
              "      <td>2019/10/01 12:39:20 PM GMT+8</td>\n",
              "      <td>Male</td>\n",
              "      <td>From 20 to 29</td>\n",
              "      <td>Student</td>\n",
              "      <td>Less than RM25,000</td>\n",
              "      <td>Monthly</td>\n",
              "      <td>Take away</td>\n",
              "      <td>Between 30 minutes to 1 hour</td>\n",
              "      <td>1km - 3km</td>\n",
              "      <td>Yes</td>\n",
              "      <td>...</td>\n",
              "      <td>Around RM20 - RM40</td>\n",
              "      <td>3</td>\n",
              "      <td>3</td>\n",
              "      <td>4</td>\n",
              "      <td>2</td>\n",
              "      <td>2</td>\n",
              "      <td>3</td>\n",
              "      <td>3</td>\n",
              "      <td>Starbucks Website/Apps;Social Media</td>\n",
              "      <td>Yes</td>\n",
              "    </tr>\n",
              "  </tbody>\n",
              "</table>\n",
              "<p>5 rows × 21 columns</p>\n",
              "</div>\n",
              "      <button class=\"colab-df-convert\" onclick=\"convertToInteractive('df-fd592f66-44b7-44c2-a457-f917cd87b56e')\"\n",
              "              title=\"Convert this dataframe to an interactive table.\"\n",
              "              style=\"display:none;\">\n",
              "        \n",
              "  <svg xmlns=\"http://www.w3.org/2000/svg\" height=\"24px\"viewBox=\"0 0 24 24\"\n",
              "       width=\"24px\">\n",
              "    <path d=\"M0 0h24v24H0V0z\" fill=\"none\"/>\n",
              "    <path d=\"M18.56 5.44l.94 2.06.94-2.06 2.06-.94-2.06-.94-.94-2.06-.94 2.06-2.06.94zm-11 1L8.5 8.5l.94-2.06 2.06-.94-2.06-.94L8.5 2.5l-.94 2.06-2.06.94zm10 10l.94 2.06.94-2.06 2.06-.94-2.06-.94-.94-2.06-.94 2.06-2.06.94z\"/><path d=\"M17.41 7.96l-1.37-1.37c-.4-.4-.92-.59-1.43-.59-.52 0-1.04.2-1.43.59L10.3 9.45l-7.72 7.72c-.78.78-.78 2.05 0 2.83L4 21.41c.39.39.9.59 1.41.59.51 0 1.02-.2 1.41-.59l7.78-7.78 2.81-2.81c.8-.78.8-2.07 0-2.86zM5.41 20L4 18.59l7.72-7.72 1.47 1.35L5.41 20z\"/>\n",
              "  </svg>\n",
              "      </button>\n",
              "      \n",
              "  <style>\n",
              "    .colab-df-container {\n",
              "      display:flex;\n",
              "      flex-wrap:wrap;\n",
              "      gap: 12px;\n",
              "    }\n",
              "\n",
              "    .colab-df-convert {\n",
              "      background-color: #E8F0FE;\n",
              "      border: none;\n",
              "      border-radius: 50%;\n",
              "      cursor: pointer;\n",
              "      display: none;\n",
              "      fill: #1967D2;\n",
              "      height: 32px;\n",
              "      padding: 0 0 0 0;\n",
              "      width: 32px;\n",
              "    }\n",
              "\n",
              "    .colab-df-convert:hover {\n",
              "      background-color: #E2EBFA;\n",
              "      box-shadow: 0px 1px 2px rgba(60, 64, 67, 0.3), 0px 1px 3px 1px rgba(60, 64, 67, 0.15);\n",
              "      fill: #174EA6;\n",
              "    }\n",
              "\n",
              "    [theme=dark] .colab-df-convert {\n",
              "      background-color: #3B4455;\n",
              "      fill: #D2E3FC;\n",
              "    }\n",
              "\n",
              "    [theme=dark] .colab-df-convert:hover {\n",
              "      background-color: #434B5C;\n",
              "      box-shadow: 0px 1px 3px 1px rgba(0, 0, 0, 0.15);\n",
              "      filter: drop-shadow(0px 1px 2px rgba(0, 0, 0, 0.3));\n",
              "      fill: #FFFFFF;\n",
              "    }\n",
              "  </style>\n",
              "\n",
              "      <script>\n",
              "        const buttonEl =\n",
              "          document.querySelector('#df-fd592f66-44b7-44c2-a457-f917cd87b56e button.colab-df-convert');\n",
              "        buttonEl.style.display =\n",
              "          google.colab.kernel.accessAllowed ? 'block' : 'none';\n",
              "\n",
              "        async function convertToInteractive(key) {\n",
              "          const element = document.querySelector('#df-fd592f66-44b7-44c2-a457-f917cd87b56e');\n",
              "          const dataTable =\n",
              "            await google.colab.kernel.invokeFunction('convertToInteractive',\n",
              "                                                     [key], {});\n",
              "          if (!dataTable) return;\n",
              "\n",
              "          const docLinkHtml = 'Like what you see? Visit the ' +\n",
              "            '<a target=\"_blank\" href=https://colab.research.google.com/notebooks/data_table.ipynb>data table notebook</a>'\n",
              "            + ' to learn more about interactive tables.';\n",
              "          element.innerHTML = '';\n",
              "          dataTable['output_type'] = 'display_data';\n",
              "          await google.colab.output.renderOutput(dataTable, element);\n",
              "          const docLink = document.createElement('div');\n",
              "          docLink.innerHTML = docLinkHtml;\n",
              "          element.appendChild(docLink);\n",
              "        }\n",
              "      </script>\n",
              "    </div>\n",
              "  </div>\n",
              "  "
            ]
          },
          "metadata": {},
          "execution_count": 5
        }
      ]
    },
    {
      "cell_type": "code",
      "source": [
        "df2.info()"
      ],
      "metadata": {
        "colab": {
          "base_uri": "https://localhost:8080/"
        },
        "id": "YnL_8MB_-Uev",
        "outputId": "8b1ce579-c18c-40a6-d3a5-8b42c8aa20a0"
      },
      "execution_count": 6,
      "outputs": [
        {
          "output_type": "stream",
          "name": "stdout",
          "text": [
            "<class 'pandas.core.frame.DataFrame'>\n",
            "RangeIndex: 121 entries, 0 to 120\n",
            "Data columns (total 21 columns):\n",
            " #   Column                                                                                                                  Non-Null Count  Dtype \n",
            "---  ------                                                                                                                  --------------  ----- \n",
            " 0   Timestamp                                                                                                               121 non-null    object\n",
            " 1   1. Your Gender                                                                                                          121 non-null    object\n",
            " 2   2. Your Age                                                                                                             121 non-null    object\n",
            " 3   3. Are you currently....?                                                                                               121 non-null    object\n",
            " 4   4. What is your annual income?                                                                                          121 non-null    object\n",
            " 5   5. How often do you visit Starbucks?                                                                                    121 non-null    object\n",
            " 6   6. How do you usually enjoy Starbucks?                                                                                  120 non-null    object\n",
            " 7   7. How much time do you normally  spend during your visit?                                                              121 non-null    object\n",
            " 8   8. The nearest Starbucks's outlet to you is...?                                                                         121 non-null    object\n",
            " 9   9. Do you have Starbucks membership card?                                                                               121 non-null    object\n",
            " 10  10. What do you most frequently purchase at Starbucks?                                                                  121 non-null    object\n",
            " 11  11. On average, how much would you spend at Starbucks per visit?                                                        121 non-null    object\n",
            " 12  12. How would you rate the quality of Starbucks compared to other brands (Coffee Bean, Old Town White Coffee..) to be:  121 non-null    int64 \n",
            " 13  13. How would you rate the price range at Starbucks?                                                                    121 non-null    int64 \n",
            " 14  14. How important are sales and promotions in your purchase decision?                                                   121 non-null    int64 \n",
            " 15  15. How would you rate the ambiance at Starbucks? (lighting, music, etc...)                                             121 non-null    int64 \n",
            " 16  16. You rate the WiFi quality at Starbucks as..                                                                         121 non-null    int64 \n",
            " 17  17. How would you rate the service at Starbucks? (Promptness, friendliness, etc..)                                      121 non-null    int64 \n",
            " 18  18. How likely you will choose Starbucks for doing business meetings or hangout with friends?                           121 non-null    int64 \n",
            " 19  19. How do you come to hear of promotions at Starbucks? Check all that apply.                                           120 non-null    object\n",
            " 20  20. Will you continue buying at Starbucks?                                                                              121 non-null    object\n",
            "dtypes: int64(7), object(14)\n",
            "memory usage: 20.0+ KB\n"
          ]
        }
      ]
    },
    {
      "cell_type": "markdown",
      "source": [
        "**Source of the Data:**\n",
        "\n",
        "https://www.kaggle.com/datasets/malaynarashid/starbucks-customer-survey"
      ],
      "metadata": {
        "id": "zsOeWViA6h2h"
      }
    },
    {
      "cell_type": "markdown",
      "source": [
        "**Description:** Survey results for Starbucks Customers"
      ],
      "metadata": {
        "id": "fH6n47sz7oxe"
      }
    },
    {
      "cell_type": "markdown",
      "source": [
        "**Target:** Membership"
      ],
      "metadata": {
        "id": "mb0nyhHx7pI_"
      }
    },
    {
      "cell_type": "markdown",
      "source": [
        "**Each Row Represents:** 1 Individual"
      ],
      "metadata": {
        "id": "gQmI84Mq7pUo"
      }
    },
    {
      "cell_type": "markdown",
      "source": [
        "**Classification or Regression:** Classification"
      ],
      "metadata": {
        "id": "aEp78dL-7peJ"
      }
    },
    {
      "cell_type": "markdown",
      "source": [
        "**Number of Features:** 17 Features"
      ],
      "metadata": {
        "id": "WSpfX7ZI7pnR"
      }
    },
    {
      "cell_type": "markdown",
      "source": [
        "**Number of Rows:** 121"
      ],
      "metadata": {
        "id": "cajGJX1S7pwR"
      }
    },
    {
      "cell_type": "markdown",
      "source": [
        "**Challenges:** First and foremost would be renaming the columns to clean up the size of the labels to begin with will be a big challenge. Plus taking the data provided and correctly changing the ratings as well as the objects into the proper variables to preprocess the whole dataframe. \n",
        "\n",
        "Though most of this challenge will be in the cleaning and the pipeing into the model correctly. "
      ],
      "metadata": {
        "id": "BPWUNlcu7p7k"
      }
    }
  ]
}